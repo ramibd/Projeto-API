{
 "cells": [
  {
   "cell_type": "code",
   "execution_count": 27,
   "metadata": {},
   "outputs": [],
   "source": [
    "import pandas as pd\n",
    "from bcb import sgs, Expectativas\n",
    "from datetime import datetime, timedelta\n",
    "import numpy as np"
   ]
  },
  {
   "cell_type": "code",
   "execution_count": 28,
   "metadata": {},
   "outputs": [],
   "source": [
    "# Endpoints\n",
    "em = Expectativas()\n",
    "ep_pib_total = em.get_endpoint('ExpectativasMercadoAnuais')"
   ]
  },
  {
   "cell_type": "code",
   "execution_count": 29,
   "metadata": {},
   "outputs": [],
   "source": [
    "# função para fazer a formatação das DataFrames\n",
    "def formata_df(df: pd.DataFrame, format_data_rf: str):\n",
    "    \n",
    "    # Data to datetime\n",
    "    df['DataReferencia'] = pd.to_datetime(df['DataReferencia'], format=format_data_rf)\n",
    "    df['Data'] = pd.to_datetime(df['Data'], format='%Y-%m-%d')\n",
    "    df['Data']= df['Data'].dt.strftime('%d/%m/%Y')\n",
    "    \n",
    "\n",
    "    # table pivot - table sorting by header - formating header\n",
    "    df_pivot = df.pivot_table(index='Data', columns='DataReferencia', values='Mediana')\n",
    "    df_pivot = df_pivot.sort_index(axis=1)\n",
    "    df_pivot.columns = df_pivot.columns.strftime('%Y')\n",
    "\n",
    "    # Formating Data\n",
    "    df_pivot = df_pivot.sort_index(key=lambda x: pd.to_datetime(x, format='%d/%m/%Y'))\n",
    "\n",
    "\n",
    "    # Changing dtypes=float\n",
    "    df_pivot = df_pivot.astype(float)\n",
    "\n",
    "    return df_pivot\n"
   ]
  },
  {
   "cell_type": "code",
   "execution_count": 30,
   "metadata": {},
   "outputs": [
    {
     "data": {
      "text/plain": [
       "DataReferencia\n",
       "2023    float64\n",
       "2024    float64\n",
       "2025    float64\n",
       "2026    float64\n",
       "2027    float64\n",
       "2028    float64\n",
       "dtype: object"
      ]
     },
     "execution_count": 30,
     "metadata": {},
     "output_type": "execute_result"
    }
   ],
   "source": [
    "# PIB Total var anual\n",
    "pib_anual = ep_pib_total.query().filter(ep_pib_total.Indicador == 'PIB Total', ep_pib_total.Data >= '2024-01-01', ep_pib_total.baseCalculo == '0').select(ep_pib_total.Data, ep_pib_total.DataReferencia, ep_pib_total.Mediana).collect()\n",
    "pib_anual_pivot = formata_df(pib_anual, '%Y')\n"
   ]
  },
  {
   "cell_type": "code",
   "execution_count": 31,
   "metadata": {},
   "outputs": [
    {
     "data": {
      "text/plain": [
       "DataReferencia\n",
       "2023    float64\n",
       "2024    float64\n",
       "2025    float64\n",
       "2026    float64\n",
       "2027    float64\n",
       "2028    float64\n",
       "dtype: object"
      ]
     },
     "execution_count": 31,
     "metadata": {},
     "output_type": "execute_result"
    }
   ],
   "source": [
    "# PIB Agro\n",
    "pib_agro = ep_pib_total.query().filter(ep_pib_total.Indicador == 'PIB Agropecuária', ep_pib_total.Data >= '2024-01-01', ep_pib_total.baseCalculo == '0').select(ep_pib_total.Indicador, ep_pib_total.Data, ep_pib_total.DataReferencia, ep_pib_total.Mediana).collect()\n",
    "pib_agro_pivot = formata_df(pib_agro, '%Y')\n"
   ]
  },
  {
   "cell_type": "code",
   "execution_count": 32,
   "metadata": {},
   "outputs": [
    {
     "data": {
      "text/plain": [
       "DataReferencia\n",
       "2023    float64\n",
       "2024    float64\n",
       "2025    float64\n",
       "2026    float64\n",
       "2027    float64\n",
       "2028    float64\n",
       "dtype: object"
      ]
     },
     "execution_count": 32,
     "metadata": {},
     "output_type": "execute_result"
    }
   ],
   "source": [
    "# PIB Industria\n",
    "pib_ind = ep_pib_total.query().filter(ep_pib_total.Indicador == 'PIB Indústria', ep_pib_total.Data >= '2024-01-01', ep_pib_total.baseCalculo == '0').select(ep_pib_total.Indicador, ep_pib_total.Data, ep_pib_total.DataReferencia, ep_pib_total.Mediana).collect()\n",
    "pib_ind_pivot = formata_df(pib_ind, '%Y')\n"
   ]
  },
  {
   "cell_type": "code",
   "execution_count": 33,
   "metadata": {},
   "outputs": [
    {
     "data": {
      "text/plain": [
       "DataReferencia\n",
       "2023    float64\n",
       "2024    float64\n",
       "2025    float64\n",
       "2026    float64\n",
       "2027    float64\n",
       "2028    float64\n",
       "dtype: object"
      ]
     },
     "execution_count": 33,
     "metadata": {},
     "output_type": "execute_result"
    }
   ],
   "source": [
    "# PIB Serviços\n",
    "pib_servicos = ep_pib_total.query().filter(ep_pib_total.Indicador == 'PIB Serviços', ep_pib_total.Data >= '2024-01-01', ep_pib_total.baseCalculo == '0').select(ep_pib_total.Indicador, ep_pib_total.Data, ep_pib_total.DataReferencia, ep_pib_total.Mediana).collect()\n",
    "pib_servicos_pivot = formata_df(pib_servicos, '%Y')\n"
   ]
  },
  {
   "cell_type": "code",
   "execution_count": 35,
   "metadata": {},
   "outputs": [],
   "source": [
    "# to excel\n",
    "with pd.ExcelWriter(r'C:\\Users\\rm170600\\Documents\\Python\\Projeto_API_SGS\\Expec_PIB.xlsx') as writer:\n",
    "    pib_anual_pivot.to_excel(writer, sheet_name='Var% PIB anual 2024')\n",
    "    pib_agro_pivot.to_excel(writer, sheet_name='PIB agro 2024')\n",
    "    pib_ind_pivot.to_excel(writer, sheet_name='PIB ind 2024')\n",
    "    pib_servicos_pivot.to_excel(writer, sheet_name='PIB servicos 2024')"
   ]
  }
 ],
 "metadata": {
  "kernelspec": {
   "display_name": "Python 3",
   "language": "python",
   "name": "python3"
  },
  "language_info": {
   "codemirror_mode": {
    "name": "ipython",
    "version": 3
   },
   "file_extension": ".py",
   "mimetype": "text/x-python",
   "name": "python",
   "nbconvert_exporter": "python",
   "pygments_lexer": "ipython3",
   "version": "3.9.13"
  }
 },
 "nbformat": 4,
 "nbformat_minor": 2
}
