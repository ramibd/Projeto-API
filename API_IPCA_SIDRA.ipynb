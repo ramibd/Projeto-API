{
 "cells": [
  {
   "cell_type": "code",
   "execution_count": 15,
   "metadata": {},
   "outputs": [],
   "source": [
    "import requests\n",
    "import pandas as pd"
   ]
  },
  {
   "cell_type": "code",
   "execution_count": 16,
   "metadata": {},
   "outputs": [],
   "source": [
    "# var mensal:\n",
    "url_var = 'https://apisidra.ibge.gov.br/values/t/7060/n1/all/v/63/p/last%201/c315/all/d/v63%202?formato=json'\n",
    "# peso_mensal:\n",
    "url_peso = 'https://apisidra.ibge.gov.br/values/t/7060/n1/all/v/66/p/last%201/c315/all/d/v66%204'\n",
    "\n",
    "# pegar os dados var mensal da sidra -> api\n",
    "data_var = requests.get(url_var)\n",
    "data_var = data_var.json()\n",
    "\n",
    "# iterando a list de dict para obter var mensal e indicies\n",
    "coluna_indicies = []\n",
    "coluna_var_mensal= []\n",
    "\n",
    "# obs: primeiro dict da list é um sumario (ent pulo o primeiro index)\n",
    "for dict in data_var[1:]:\n",
    "    for chave, valor in dict.items():\n",
    "        if chave == 'D4N':\n",
    "            coluna_indicies.append(valor)\n",
    "        if chave == 'V':\n",
    "            coluna_var_mensal.append(valor)\n",
    "\n",
    "# peso mensal\n",
    "data_peso = requests.get(url_peso)\n",
    "data_peso = data_peso.json()\n",
    "\n",
    "# pegar os dados peso mensal da sidra -> api\n",
    "coluna_peso_mensal = []\n",
    "\n",
    "# obs: primeiro dict da list é um sumario (ent pulo o primeiro index)\n",
    "for dict in data_peso[1:]:\n",
    "    for chave, valor in dict.items():\n",
    "        if chave == 'V':\n",
    "            coluna_peso_mensal.append(valor)\n",
    "\n",
    "# criando df com os dados anteriores\n",
    "df = pd.DataFrame(coluna_indicies, columns=['Geral, grupo, subgrupo, item e subitem'])\n",
    "df['Var% Mensal'] = coluna_var_mensal\n",
    "df['Peso% Mensal'] = coluna_peso_mensal\n",
    "\n",
    "# pegando data dos dados para colocar no sheet_name\n",
    "data_tempo = data_var[1]['D3N']\n",
    "\n",
    "# enviando dados para planilha do excel\n",
    "with pd.ExcelWriter(r'C:\\Users\\rm170600\\Documents\\Python\\Projeto_API_SIDRA\\SIDRA_IPCA.xlsx') as writer:\n",
    "   df.to_excel(writer, sheet_name=data_tempo, index=False)\n"
   ]
  }
 ],
 "metadata": {
  "kernelspec": {
   "display_name": "Python 3",
   "language": "python",
   "name": "python3"
  },
  "language_info": {
   "codemirror_mode": {
    "name": "ipython",
    "version": 3
   },
   "file_extension": ".py",
   "mimetype": "text/x-python",
   "name": "python",
   "nbconvert_exporter": "python",
   "pygments_lexer": "ipython3",
   "version": "3.9.13"
  }
 },
 "nbformat": 4,
 "nbformat_minor": 2
}
