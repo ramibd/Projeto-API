{
 "cells": [
  {
   "cell_type": "code",
   "execution_count": 73,
   "metadata": {},
   "outputs": [],
   "source": [
    "\n",
    "import pandas as pd\n",
    "from bcb import sgs, Expectativas\n",
    "from datetime import datetime, timedelta"
   ]
  },
  {
   "cell_type": "code",
   "execution_count": 84,
   "metadata": {},
   "outputs": [],
   "source": [
    "em = Expectativas()\n",
    "# em.describe()\n",
    "ep_m_mensal = em.get_endpoint('ExpectativaMercadoMensais')"
   ]
  },
  {
   "cell_type": "code",
   "execution_count": 75,
   "metadata": {},
   "outputs": [],
   "source": [
    "# função para fazer a formatação das DataFrames\n",
    "def formata_df(df: pd.DataFrame):\n",
    "    # Formatando as datas\n",
    "    df['DataReferencia'] = pd.to_datetime(df['DataReferencia'], format='%m/%Y')\n",
    "\n",
    "    # Colocando DataReferencia como header\n",
    "    df_pivot = df.pivot_table(index='Data', columns='DataReferencia', values='Mediana')\n",
    "    \n",
    "    # Formatando data e ordem da DataReferencia\n",
    "    df_pivot = df_pivot.sort_index(axis=1)\n",
    "    df_pivot.columns = df_pivot.columns.strftime('%m/%Y')\n",
    "    return df_pivot\n",
    "\n"
   ]
  },
  {
   "cell_type": "code",
   "execution_count": 76,
   "metadata": {},
   "outputs": [],
   "source": [
    "# IPCA mensal\n",
    "ipca_mensal = ep_m_mensal.query().filter(ep_m_mensal.Indicador == 'IPCA', ep_m_mensal.Data >= '2023-01-01').select(ep_m_mensal.Indicador, ep_m_mensal.Data, ep_m_mensal.Mediana, ep_m_mensal.DataReferencia).collect()\n",
    "ipca_mensal_pivot = formata_df(ipca_mensal)\n",
    "# ipca_mensal_pivot"
   ]
  },
  {
   "cell_type": "code",
   "execution_count": 77,
   "metadata": {},
   "outputs": [],
   "source": [
    "# IPCA Livre\n",
    "ipca_livre_expec = ep_m_mensal.query().filter(ep_m_mensal.Indicador == 'IPCA Livres', ep_m_mensal.Data >= '2023-01-01').select(ep_m_mensal.Indicador, ep_m_mensal.Data, ep_m_mensal.Mediana, ep_m_mensal.DataReferencia).collect()\n",
    "ipca_livre_pivot = formata_df(ipca_livre_expec)\n",
    "# ipca_livre_pivot"
   ]
  },
  {
   "cell_type": "code",
   "execution_count": 78,
   "metadata": {},
   "outputs": [],
   "source": [
    "# IPCA Adm\n",
    "ipca_adm_expec = ep_m_mensal.query().filter(ep_m_mensal.Indicador == 'IPCA Administrados', ep_m_mensal.Data >= '2023-01-01').select(ep_m_mensal.Indicador, ep_m_mensal.Data, ep_m_mensal.Mediana, ep_m_mensal.DataReferencia).collect()\n",
    "ipca_adm_pivot = formata_df(ipca_adm_expec)\n",
    "# ipca_adm_pivot"
   ]
  },
  {
   "cell_type": "code",
   "execution_count": 83,
   "metadata": {},
   "outputs": [],
   "source": [
    "# expec IPCA mensal\n",
    "with pd.ExcelWriter(r'CAMINHO_do_Arquivo_Excel') as writer:\n",
    "   ipca_mensal_pivot.to_excel(writer, sheet_name='IPCA Mensal')\n",
    "   ipca_livre_pivot.to_excel(writer, sheet_name='IPCA Livre')\n",
    "   ipca_adm_pivot.to_excel(writer, sheet_name='IPCA ADM')\n"
   ]
  }
 ],
 "metadata": {
  "kernelspec": {
   "display_name": "Python 3",
   "language": "python",
   "name": "python3"
  },
  "language_info": {
   "codemirror_mode": {
    "name": "ipython",
    "version": 3
   },
   "file_extension": ".py",
   "mimetype": "text/x-python",
   "name": "python",
   "nbconvert_exporter": "python",
   "pygments_lexer": "ipython3",
   "version": "3.9.13"
  }
 },
 "nbformat": 4,
 "nbformat_minor": 2
}
