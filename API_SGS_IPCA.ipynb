{
 "cells": [
  {
   "cell_type": "code",
   "execution_count": 2,
   "metadata": {},
   "outputs": [],
   "source": [
    "\n",
    "import pandas as pd\n",
    "from bcb import sgs, Expectativas\n",
    "from datetime import datetime, timedelta\n",
    "import numpy as np"
   ]
  },
  {
   "cell_type": "code",
   "execution_count": 3,
   "metadata": {},
   "outputs": [],
   "source": [
    "# Endpoints\n",
    "em = Expectativas()\n",
    "# em.describe()\n",
    "ep_m_mensal = em.get_endpoint('ExpectativaMercadoMensais')"
   ]
  },
  {
   "cell_type": "code",
   "execution_count": 4,
   "metadata": {},
   "outputs": [],
   "source": [
    "# função para fazer a formatação das DataFrames\n",
    "def formata_df(df: pd.DataFrame):\n",
    "    \n",
    "    # Data and DataRef to datetime\n",
    "    df['DataReferencia'] = pd.to_datetime(df['DataReferencia'], format='%m/%Y')\n",
    "    \n",
    "    df['Data'] = pd.to_datetime(df['Data'], format='%Y-%m-%d')\n",
    "    df['Data']= df['Data'].dt.strftime('%d/%m/%Y')\n",
    "    \n",
    "    # table pivot - table sorting by header - formating header\n",
    "    df_pivot = df.pivot_table(index='Data', columns='DataReferencia', values='Mediana')\n",
    "    df_pivot = df_pivot.sort_index(axis=1)\n",
    "    df_pivot.columns = df_pivot.columns.strftime('%m/%Y')\n",
    "\n",
    "    # Formating Data\n",
    "    df_pivot = df_pivot.sort_index(key=lambda x: pd.to_datetime(x, format='%d/%m/%Y'))\n",
    "\n",
    "    # Formatando casas decimais e alterando dtypes=float\n",
    "    df_pivot = df_pivot.astype(float)\n",
    "    \n",
    "    return df_pivot\n",
    "\n"
   ]
  },
  {
   "cell_type": "code",
   "execution_count": 12,
   "metadata": {},
   "outputs": [],
   "source": [
    "# IPCA mensal ultimos 30 dias\n",
    "ipca_mensal = ep_m_mensal.query().filter(ep_m_mensal.Indicador == 'IPCA', ep_m_mensal.Data >= '2024-01-01', ep_m_mensal.baseCalculo == '0').select(ep_m_mensal.Indicador, ep_m_mensal.Data, ep_m_mensal.Mediana, ep_m_mensal.DataReferencia).collect()\n",
    "ipca_mensal_pivot = formata_df(ipca_mensal)\n",
    "\n",
    "\n"
   ]
  },
  {
   "cell_type": "code",
   "execution_count": 6,
   "metadata": {},
   "outputs": [],
   "source": [
    "# IPCA Livre \n",
    "ipca_livre_expec = ep_m_mensal.query().filter(ep_m_mensal.Indicador == 'IPCA Livres', ep_m_mensal.Data >= '2024-01-01', ep_m_mensal.baseCalculo == '0').select(ep_m_mensal.Indicador, ep_m_mensal.Data, ep_m_mensal.Mediana, ep_m_mensal.DataReferencia).collect()\n",
    "ipca_livre_pivot = formata_df(ipca_livre_expec)\n"
   ]
  },
  {
   "cell_type": "code",
   "execution_count": 7,
   "metadata": {},
   "outputs": [],
   "source": [
    "# IPCA Adm\n",
    "ipca_adm_expec = ep_m_mensal.query().filter(ep_m_mensal.Indicador == 'IPCA Administrados', ep_m_mensal.Data >= '2024-01-01', ep_m_mensal.baseCalculo == '0').select(ep_m_mensal.Indicador, ep_m_mensal.Data, ep_m_mensal.Mediana, ep_m_mensal.DataReferencia).collect()\n",
    "ipca_adm_pivot = formata_df(ipca_adm_expec)"
   ]
  },
  {
   "cell_type": "code",
   "execution_count": 8,
   "metadata": {},
   "outputs": [],
   "source": [
    "# to excel\n",
    "with pd.ExcelWriter(r'C:\\Users\\rm170600\\Documents\\Python\\Projeto_API_SGS\\Expec_IPCA.xlsx') as writer:\n",
    "   ipca_mensal_pivot.to_excel(writer, sheet_name='IPCA Mensal')\n",
    "   ipca_livre_pivot.to_excel(writer, sheet_name='IPCA Livre')\n",
    "   ipca_adm_pivot.to_excel(writer, sheet_name='IPCA ADM')\n"
   ]
  }
 ],
 "metadata": {
  "kernelspec": {
   "display_name": "Python 3",
   "language": "python",
   "name": "python3"
  },
  "language_info": {
   "codemirror_mode": {
    "name": "ipython",
    "version": 3
   },
   "file_extension": ".py",
   "mimetype": "text/x-python",
   "name": "python",
   "nbconvert_exporter": "python",
   "pygments_lexer": "ipython3",
   "version": "3.9.13"
  }
 },
 "nbformat": 4,
 "nbformat_minor": 2
}
