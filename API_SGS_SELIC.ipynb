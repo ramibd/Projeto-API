{
 "cells": [
  {
   "cell_type": "code",
   "execution_count": 250,
   "metadata": {},
   "outputs": [],
   "source": [
    "import requests\n",
    "import pandas as pd\n",
    "from bcb import sgs, Expectativas\n",
    "from natsort import natsort_key\n",
    "import numpy as np\n"
   ]
  },
  {
   "cell_type": "code",
   "execution_count": 251,
   "metadata": {},
   "outputs": [],
   "source": [
    "# função para fazer a formatação das DataFrames\n",
    "\n",
    "def formata_df(df: pd.DataFrame):\n",
    "    \n",
    "    # Colocando Reuniao como header\n",
    "    df_pivot = df.pivot_table(index='Data', columns='Reuniao', values='Mediana')\n",
    "\n",
    "    # Formatando ordem da Reuniao\n",
    "    df_pivot = df_pivot.sort_index(axis=1)\n",
    "    return df_pivot.applymap(lambda x: '{:.4f}'.format(x) if not pd.isnull(x) else np.nan)"
   ]
  },
  {
   "cell_type": "code",
   "execution_count": 252,
   "metadata": {},
   "outputs": [],
   "source": [
    "em = Expectativas()\n",
    "# em.describe()\n",
    "\n",
    "ep_selic = em.get_endpoint('ExpectativasMercadoSelic')\n",
    "ep_expec_anual = em.get_endpoint('ExpectativasMercadoAnuais')"
   ]
  },
  {
   "cell_type": "code",
   "execution_count": 253,
   "metadata": {},
   "outputs": [],
   "source": [
    "# Selic mensal por reuniões\n",
    "\n",
    "selic_mensal = ep_selic.query().filter(ep_selic.Data >= '01/01/2023').select(ep_selic.Data, ep_selic.Reuniao, ep_selic.Mediana).collect()\n",
    "selic_mensal_pivot = formata_df(selic_mensal)\n",
    "\n",
    "\n",
    "# \n",
    "idx = (selic_mensal_pivot.columns.to_series().str.split('/', expand=True)\n",
    "         .sort_values(by=[1, 0], key=natsort_key).index\n",
    "      )\n",
    "\n",
    "selic_mensal_reuniao = selic_mensal_pivot[idx]\n",
    "# selic_mensal_reuniao"
   ]
  },
  {
   "cell_type": "code",
   "execution_count": 254,
   "metadata": {},
   "outputs": [],
   "source": [
    "# Selic anual\n",
    "\n",
    "selic_anual = ep_expec_anual.query().filter(ep_expec_anual.Indicador == 'Selic', ep_expec_anual.Data >= '01/01/2023').select(ep_expec_anual.Indicador, ep_expec_anual.Data, ep_expec_anual.DataReferencia, ep_expec_anual.Mediana).collect() \n",
    "\n",
    "selic_anual['DataReferencia'] = pd.to_datetime(selic_anual['DataReferencia'], format='%Y')\n",
    "selic_anual_pivot = selic_anual.pivot_table(index='Data', columns='DataReferencia', values='Mediana')    \n",
    "\n",
    "selic_anual_pivot = selic_anual_pivot.sort_index(axis=1)\n",
    "selic_anual_pivot.columns = selic_anual_pivot.columns.strftime('%Y')\n",
    "\n",
    "# selic_anual_pivot\n"
   ]
  },
  {
   "cell_type": "code",
   "execution_count": 255,
   "metadata": {},
   "outputs": [],
   "source": [
    "with pd.ExcelWriter(r'SEU_CAMINHO') as writer:\n",
    "   selic_mensal_reuniao.to_excel(writer, sheet_name='Mediana mensal')\n",
    "   selic_anual_pivot.to_excel(writer, sheet_name='Mediana anual', index=False)"
   ]
  }
 ],
 "metadata": {
  "kernelspec": {
   "display_name": "Python 3",
   "language": "python",
   "name": "python3"
  },
  "language_info": {
   "codemirror_mode": {
    "name": "ipython",
    "version": 3
   },
   "file_extension": ".py",
   "mimetype": "text/x-python",
   "name": "python",
   "nbconvert_exporter": "python",
   "pygments_lexer": "ipython3",
   "version": "3.9.13"
  }
 },
 "nbformat": 4,
 "nbformat_minor": 2
}
